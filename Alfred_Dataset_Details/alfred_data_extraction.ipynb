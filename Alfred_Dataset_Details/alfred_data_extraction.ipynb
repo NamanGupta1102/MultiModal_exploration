{
 "cells": [
  {
   "cell_type": "code",
   "execution_count": 1,
   "metadata": {},
   "outputs": [],
   "source": [
    "import json\n",
    "import pandas as pd\n",
    "import os\n",
    "import pprint"
   ]
  },
  {
   "cell_type": "code",
   "execution_count": 4,
   "metadata": {},
   "outputs": [],
   "source": [
    "SPLITS = ['train', 'valid_seen', 'valid_unseen']\n",
    "SOURCE_DIR = \"./json_2.1.0/\""
   ]
  },
  {
   "cell_type": "code",
   "execution_count": 24,
   "metadata": {},
   "outputs": [],
   "source": [
    "for split in SPLITS:\n",
    "  split_prompt_data = []\n",
    "  tasks = os.listdir(os.path.join(SOURCE_DIR, split))\n",
    "  # print(len(tasks))\n",
    "  for task in tasks:\n",
    "    trials = os.listdir(os.path.join(SOURCE_DIR, split, task))\n",
    "    for trial in trials:\n",
    "      trial_json = json.load(open(os.path.join(SOURCE_DIR, split, task, trial, 'traj_data.json')))\n",
    "      for prompt_data in trial_json['turk_annotations']['anns']:\n",
    "        data = {\n",
    "          'ID': trial_json['task_id'],\n",
    "          'GOAL_DESC': prompt_data['task_desc'],\n",
    "          'DIR': os.path.join(SOURCE_DIR, split, task),\n",
    "          'PROMPT': \" \".join(prompt_data['high_descs'])\n",
    "        }\n",
    "        split_prompt_data.append(data)\n",
    "  df = pd.DataFrame.from_records(split_prompt_data)\n",
    "  df.to_csv(f\"{split}_prompts.csv\", index=False)"
   ]
  },
  {
   "cell_type": "code",
   "execution_count": 6,
   "metadata": {},
   "outputs": [],
   "source": [
    "TEST_SPLITS = ['tests_seen', 'tests_unseen']\n",
    "for split in TEST_SPLITS:\n",
    "  split_prompt_data = []\n",
    "  trials = os.listdir(os.path.join(SOURCE_DIR, split))\n",
    "  for trial in trials:\n",
    "    trial_json = json.load(open(os.path.join(SOURCE_DIR, split, trial, 'traj_data.json')))\n",
    "    for prompt_data in trial_json['turk_annotations']['anns']:\n",
    "      data = {\n",
    "        'ID': trial_json['task_id'],\n",
    "        'GOAL_DESC': prompt_data['task_desc'],\n",
    "        'DIR': os.path.join(SOURCE_DIR, split, trial),\n",
    "        'PROMPT': \" \".join(prompt_data['high_descs'])\n",
    "      }\n",
    "      split_prompt_data.append(data)\n",
    "  df = pd.DataFrame.from_records(split_prompt_data)\n",
    "  df.to_csv(f\"{split}_prompts.csv\", index=False)"
   ]
  },
  {
   "cell_type": "code",
   "execution_count": 2,
   "metadata": {},
   "outputs": [],
   "source": [
    "files = [\n",
    "  'train_prompts.csv',\n",
    "  'valid_seen_prompts.csv',\n",
    "  'valid_unseen_prompts.csv',\n",
    "  'tests_seen_prompts.csv',\n",
    "  'tests_unseen_prompts.csv'\n",
    "]\n",
    "\n",
    "for file in files:\n",
    "    df = pd.read_csv(file)\n",
    "    for index, row in df.iterrows():\n",
    "        with open(f\"{file[:-4]}.txt\", \"a\") as f:\n",
    "            f.write(row['PROMPT'] + \"\\n\")"
   ]
  }
 ],
 "metadata": {
  "kernelspec": {
   "display_name": ".venv",
   "language": "python",
   "name": "python3"
  },
  "language_info": {
   "codemirror_mode": {
    "name": "ipython",
    "version": 3
   },
   "file_extension": ".py",
   "mimetype": "text/x-python",
   "name": "python",
   "nbconvert_exporter": "python",
   "pygments_lexer": "ipython3",
   "version": "3.12.3"
  }
 },
 "nbformat": 4,
 "nbformat_minor": 2
}
